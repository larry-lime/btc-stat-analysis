{
 "cells": [
  {
   "cell_type": "code",
   "execution_count": null,
   "id": "962084dd-8535-42a5-9fbe-00311aa3e72f",
   "metadata": {},
   "outputs": [],
   "source": [
    "# Data Analysis Packages\n",
    "from sklearn import preprocessing\n",
    "import pandas as pd\n",
    "import numpy as np\n",
    "import pickle as pk"
   ]
  },
  {
   "cell_type": "code",
   "execution_count": null,
   "id": "371109a3-5c04-4345-8cf8-8a323a77f185",
   "metadata": {},
   "outputs": [],
   "source": [
    "# Graphing Packages\n",
    "import seaborn as sns\n",
    "import matplotlib.pyplot as plt\n",
    "plt.style.use('ggplot')"
   ]
  },
  {
   "cell_type": "markdown",
   "id": "0abc48d6",
   "metadata": {},
   "source": [
    "# Import and Save Data"
   ]
  },
  {
   "cell_type": "markdown",
   "id": "9b4985c4-1c27-44e7-8b56-d668315e020e",
   "metadata": {},
   "source": [
    "### Crypto Search Data (from Google Trends)"
   ]
  },
  {
   "cell_type": "code",
   "execution_count": null,
   "id": "2d631525-a6a5-455e-a1bc-524cf2dc59ff",
   "metadata": {},
   "outputs": [],
   "source": [
    "# Import pytrends package\n",
    "import pytrends as pt\n",
    "from pytrends.request import TrendReq\n",
    "\n",
    "# initialize a new Google Trends Request Object\n",
    "pt = TrendReq(hl=\"en-US\", tz=360)\n",
    "\n",
    "# Set the keyword & timeframe\n",
    "keywords = [\"Bitcoin\", \"Ethereum\"]\n",
    "pt.build_payload(keywords, timeframe=\"all\")\n",
    "\n",
    "# Get the interest over time\n",
    "crypto_search = pt.interest_over_time()\n",
    "\n",
    "# Save search data as pickled pandas datafame and .csv file\n",
    "pk.dump(crypto_search, open( \"binary\\\\og_search_data.p\", \"wb\" ) )\n",
    "crypto_search.to_csv(\"csv\\\\og_search_data_relative.csv\")"
   ]
  },
  {
   "cell_type": "markdown",
   "id": "8fa95926-bd3c-4916-9e7a-862225162c19",
   "metadata": {},
   "source": [
    "### Crypto Price Data (from Yahoo Finance)"
   ]
  },
  {
   "cell_type": "code",
   "execution_count": null,
   "id": "57220289",
   "metadata": {},
   "outputs": [],
   "source": [
    "# Import yfinance package\n",
    "import yfinance as yf\n",
    "crypto_price = yf.download(\"BTC-USD\", start=\"2009-01-01\", end=\"2021-01-19\",interval = \"1d\")\n",
    "\n",
    "# Save price data as pickled pandas datafame and .csv file\n",
    "pk.dump(crypto_price, open( \"binary\\\\og_price_data.p\", \"wb\" ) )\n",
    "crypto_price.to_csv(\"binary\\\\og_price_data.csv\")"
   ]
  },
  {
   "cell_type": "markdown",
   "id": "8519d894-b9d7-457b-8b81-c6a896cbc2c7",
   "metadata": {},
   "source": [
    "### Check that everything was imported and saved successfully"
   ]
  },
  {
   "cell_type": "code",
   "execution_count": null,
   "id": "5b1ce060-c2a5-4b4b-a248-e4b530ef5c22",
   "metadata": {},
   "outputs": [],
   "source": [
    "# Crypto search data\n",
    "pk.load(open(\"binary\\\\og_search_data.p\", \"rb\"))"
   ]
  },
  {
   "cell_type": "code",
   "execution_count": null,
   "id": "12174e17-2c91-464d-b3dc-35155408616e",
   "metadata": {},
   "outputs": [],
   "source": [
    "# BTC-USD price data\n",
    "pk.load(open(\"binary\\\\og_price_data.p\", \"rb\"))"
   ]
  },
  {
   "cell_type": "markdown",
   "id": "ac195bff-fd01-4b00-82d9-dc8720948ff1",
   "metadata": {
    "jp-MarkdownHeadingCollapsed": true,
    "tags": []
   },
   "source": [
    "### Import the original datasets"
   ]
  },
  {
   "cell_type": "code",
   "execution_count": null,
   "id": "3de94886-7c40-440d-b3da-3666d2c62fbe",
   "metadata": {},
   "outputs": [],
   "source": [
    "# Bitcoin block data\n",
    "og_block_data = pk.load(open(\"og_data_binary\\\\og_block_data.p\", \"rb\"))\n",
    "# Crypto search data\n",
    "og_search_data = pk.load(open(\"og_data_binary\\\\og_search_data.p\", \"rb\"))"
   ]
  },
  {
   "cell_type": "markdown",
   "id": "3d374e25-0df7-4fcc-a4cc-f8d5bc994f9a",
   "metadata": {
    "jp-MarkdownHeadingCollapsed": true,
    "tags": []
   },
   "source": [
    "### Match the date range for both datasets"
   ]
  },
  {
   "cell_type": "code",
   "execution_count": null,
   "id": "066ba21d-96a8-4a15-b975-1e865d0e56c3",
   "metadata": {},
   "outputs": [],
   "source": [
    "# Truncate the data to match the date range of the bitcoin block dataset\n",
    "new_search_data = og_search_data.truncate(\n",
    "    before=list(og_search_data.index)[60],\n",
    "    after=list(og_search_data.index)[204]\n",
    ")\n",
    "# Save the pickeled pandas dataframe\n",
    "pk.dump(new_search_data, open(\"block_and_search\\\\new_search_data.p\", \"wb\" ))"
   ]
  },
  {
   "cell_type": "code",
   "execution_count": null,
   "id": "ee84d611-6e10-4fa1-afb4-013f14607cc0",
   "metadata": {},
   "outputs": [],
   "source": [
    "# Drop columns with non-numerical data and height (because it's useless)\n",
    "block_data = og_block_data.drop(['host'],inplace=False,axis=1)\n",
    "\n",
    "dic = {}\n",
    "\n",
    "for i in list(block_data.index)[:]:\n",
    "    lst = [ ]\n",
    "    for k in [block_data[c][i] for c in block_data.columns]:\n",
    "        if type(k) == str:\n",
    "            key = k.split(\" \")[0]\n",
    "            var = key.split('/')  \n",
    "            new_key = var[-2] + '/' + var[-1]\n",
    "        else:\n",
    "            lst.append(k)\n",
    "            \n",
    "    if key not in dic.keys():\n",
    "        dic[new_key] = lst\n",
    "        \n",
    "# Convert the dictionary to a pandas dataframe and rename the columns\n",
    "new_block_data = pd.DataFrame.from_dict(data=dic,orient='index',columns=list(block_data.columns)[:-1])\n",
    "\n",
    "# Save the pickeled pandas dataframe\n",
    "pk.dump(new_block_data, open(\"block_and_search\\\\new_block_data.p\", \"wb\" ))"
   ]
  },
  {
   "cell_type": "markdown",
   "id": "dfcc7bcd-5e62-420f-886c-b60c1f2c0937",
   "metadata": {
    "jp-MarkdownHeadingCollapsed": true,
    "tags": []
   },
   "source": [
    "### Check that the data was cleaned and saved correctly"
   ]
  },
  {
   "cell_type": "code",
   "execution_count": null,
   "id": "fc158a0d-223d-4c1a-9b64-a045578d8a97",
   "metadata": {},
   "outputs": [],
   "source": [
    "pk.load(open(\"block_and_search\\\\new_block_data.p\", \"rb\" ))"
   ]
  },
  {
   "cell_type": "code",
   "execution_count": null,
   "id": "2b29262f",
   "metadata": {},
   "outputs": [],
   "source": [
    "import seaborn as sns\n",
    "\n",
    "plt.subplots(figsize= (20,12))\n",
    "\n",
    "plt.title(\"Block & Search Data Correlation\")\n",
    "sns.set_theme(color_codes=True)\n",
    "\n",
    "test = pk.load(open(\"block_and_search\\\\new_block_data.p\", \"rb\" ))\n",
    "\n",
    "for i in test.columns:\n",
    "    if i != 'height':\n",
    "        # plt.plot(test[i], label=i)\n",
    "        sns.regplot(x='height', y=i, data=test)    \n",
    "\n",
    "# plt.savefig(\"block_and_search\\\\block_and_search_corr.jpg\", dpi = 300)"
   ]
  },
  {
   "cell_type": "code",
   "execution_count": null,
   "id": "50881cdb-cd89-4da0-8957-60807894f88e",
   "metadata": {},
   "outputs": [],
   "source": [
    "pk.load(open(\"block_and_search\\\\new_search_data.p\", \"rb\" ))"
   ]
  },
  {
   "cell_type": "markdown",
   "id": "d573351f-56e6-4f48-b2fc-0296386bf6e0",
   "metadata": {
    "jp-MarkdownHeadingCollapsed": true,
    "tags": []
   },
   "source": [
    "### Concatenate Block and Search Data"
   ]
  },
  {
   "cell_type": "code",
   "execution_count": null,
   "id": "68d296a9-6d29-4121-bfae-bc94cf75f636",
   "metadata": {},
   "outputs": [],
   "source": [
    "# Load binary files\n",
    "new_block_data = pk.load(open(\"block_and_search\\\\new_block_data.p\", \"rb\" ))\n",
    "new_search_data = pk.load(open(\"block_and_search\\\\new_search_data.p\", \"rb\" ))\n",
    "\n",
    "# Match the indexes\n",
    "new_block_data = new_block_data.set_index(new_search_data.index)\n",
    "\n",
    "# Concatenate the block and search datasets\n",
    "block_and_search_concat = pd.concat([new_search_data,new_block_data], axis=1)\n",
    "block_and_search_concat.drop(['isPartial'],inplace=True,axis=1)\n",
    "\n",
    "# Save the concatenated dataset\n",
    "block_and_search_concat.to_csv(\"block_and_search\\\\block_and_search_concat.csv\")\n",
    "pk.dump(block_and_search_concat, open(\"block_and_search\\\\block_and_search_concat.p\", \"wb\" ))\n",
    "\n",
    "# Show the dataset\n",
    "block_and_search_concat"
   ]
  },
  {
   "cell_type": "code",
   "execution_count": null,
   "id": "cdb0536c",
   "metadata": {},
   "outputs": [],
   "source": [
    "import seaborn as sns\n",
    "\n",
    "# plt.subplots(figsize= (20,12))\n",
    "\n",
    "# plt.title(\"Price & Block Data Correlation\")\n",
    "# sns.set_theme(color_codes=True)\n",
    "\n",
    "# test = block_and_search_concat\n",
    "\n",
    "for i in test.columns:\n",
    "    if i != 'height' and i != 'block_reward_tips' and i != 'block_reward':\n",
    "        # plt.plot(test[i], label=i)\n",
    "        # sns.regplot(x='height', y=i, data=test)    \n",
    "        plt.subplots(figsize= (20,12))\n",
    "        sns.lmplot(x=\"height\", y=i, data=test, x_jitter=.05)\n",
    "        sns.set_theme(color_codes=True)\n",
    "        plt.title(\"Price & Block Data Correlation\")\n",
    "        plt.savefig(f\"block_and_search\\\\{i}_reg.jpg\", dpi = 300)"
   ]
  },
  {
   "cell_type": "code",
   "execution_count": null,
   "id": "c949d209",
   "metadata": {},
   "outputs": [],
   "source": [
    "plt.subplots(figsize= (20,12))\n",
    "plt.title(\"Price & Block Data Correlation\")\n",
    "sns.regplot(x='height', y='size', data=test)    \n",
    "# sns.lmplot(x=\"height\", y=i, data=test, x_jitter=.05)\n",
    "sns.set_theme(color_codes=True)\n",
    "plt.savefig(f\"block_and_search\\\\size_reg.jpg\", dpi = 300)\n",
    "\n",
    "plt.subplots(figsize= (20,12))\n",
    "plt.title(\"Price & Block Data Correlation\")\n",
    "sns.regplot(x='height', y='volume', data=test)    \n",
    "# sns.lmplot(x=\"height\", y=i, data=test, x_jitter=.05)\n",
    "sns.set_theme(color_codes=True)\n",
    "plt.savefig(f\"block_and_search\\\\volume_reg.jpg\", dpi = 300)\n",
    "\n",
    "plt.subplots(figsize= (20,12))\n",
    "plt.title(\"Price & Block Data Correlation\")\n",
    "sns.regplot(x='height', y='weight', data=test)    \n",
    "# sns.lmplot(x=\"height\", y=i, data=test, x_jitter=.05)\n",
    "sns.set_theme(color_codes=True)\n",
    "plt.savefig(f\"block_and_search\\\\weight_reg.jpg\", dpi = 300)"
   ]
  },
  {
   "cell_type": "markdown",
   "id": "e19822e4-5f73-49d7-94e8-56866776e668",
   "metadata": {
    "jp-MarkdownHeadingCollapsed": true,
    "tags": []
   },
   "source": [
    "### Calculate the correlation between the data points"
   ]
  },
  {
   "cell_type": "code",
   "execution_count": null,
   "id": "77052225-9fdf-44e3-8821-03543be5992d",
   "metadata": {},
   "outputs": [],
   "source": [
    "# Load binary files\n",
    "block_and_search_concat = pk.load(open(\"block_and_search\\\\block_and_search_concat.p\", \"rb\" ))\n",
    "\n",
    "# Show Correlation\n",
    "block_and_search_corr = block_and_search_concat.corr(method='pearson')\n",
    "\n",
    "# Saved the dataset\n",
    "pk.dump(block_and_search_corr, open(\"block_and_search\\\\block_and_search_corr.p\", \"wb\" ))\n",
    "\n",
    "# Show the dataset\n",
    "block_and_search_corr"
   ]
  },
  {
   "cell_type": "markdown",
   "id": "1390d827-b9fa-4d7f-af49-d954ce0256aa",
   "metadata": {
    "jp-MarkdownHeadingCollapsed": true,
    "tags": []
   },
   "source": [
    "### Visualize the correlation as a heat map"
   ]
  },
  {
   "cell_type": "code",
   "execution_count": null,
   "id": "9d4909cd-2e30-4670-845f-82de8b84baa1",
   "metadata": {},
   "outputs": [],
   "source": [
    "plt.subplots(figsize= (20,12))\n",
    "sns.heatmap(block_and_search_corr, annot= True, fmt= '.2%')\n",
    "plt.title(\"Block & Search Data Correlation\")\n",
    "plt.savefig(\"block_and_search\\\\block_and_search_corr.jpg\", dpi = 300)"
   ]
  },
  {
   "cell_type": "markdown",
   "id": "4caa2749-3805-48ce-a7aa-cd9089b676a9",
   "metadata": {
    "jp-MarkdownHeadingCollapsed": true,
    "tags": []
   },
   "source": [
    "### Min-Max Scale the data so we can better visualize the change over time"
   ]
  },
  {
   "cell_type": "code",
   "execution_count": null,
   "id": "e375c0f6-50c2-4402-b2e0-82aaface13de",
   "metadata": {},
   "outputs": [],
   "source": [
    "# Load binary files\n",
    "block_and_search_concat = pk.load(open(\"block_and_search\\\\block_and_search_concat.p\", \"rb\" ))\n",
    "\n",
    "# Scale the data\n",
    "min_max_scaler = preprocessing.MinMaxScaler(feature_range=(0, 100))\n",
    "scaled = min_max_scaler.fit_transform(block_and_search_concat)\n",
    "block_and_search_scaled = pd.DataFrame(scaled, columns = block_and_search_concat.columns)\n",
    "block_and_search_scaled = block_and_search_scaled.set_index(block_and_search_concat.index)\n",
    "\n",
    "pk.dump(block_and_search_scaled, open(\"block_and_search\\\\block_and_search_scaled.p\", \"wb\" ))\n",
    "block_and_search_scaled"
   ]
  },
  {
   "cell_type": "markdown",
   "id": "298175f6-8b84-4d18-b61d-ab47cfe42dc8",
   "metadata": {
    "jp-MarkdownHeadingCollapsed": true,
    "tags": []
   },
   "source": [
    "### Visualize Block and search Data (Unscaled) "
   ]
  },
  {
   "cell_type": "code",
   "execution_count": null,
   "id": "bf874544-de24-47eb-8129-e768d1c7f2dd",
   "metadata": {},
   "outputs": [],
   "source": [
    "# Create subplots\n",
    "fig, ax = plt.subplots()\n",
    "line1, = ax.plot(block_and_search_concat['Bitcoin'].truncate(before=list(block_and_search_concat.index)[14]), label=\"BTC\")\n",
    "line2, = ax.plot(block_and_search_concat['Ethereum'].truncate(before=list(block_and_search_concat.index)[14]), label=\"ETH\")\n",
    "# line3, = ax.plot(block_and_search_concat['size'].truncate(before=list(block_and_search_concat.index)[14]), label=\"Size\")\n",
    "# line4, = ax.plot(block_and_search_concat['stripped_size'].truncate(before=list(block_and_search_concat.index)[14]), label=\"Stripped Size\")\n",
    "\n",
    "# Create a legend for the plot\n",
    "first_legend = ax.legend(handles=[line1,line2], loc='upper left')\n",
    "\n",
    "# Add the legend manually to the Axes.\n",
    "ax.add_artist(first_legend)\n",
    "\n",
    "# Label the x and y axis\n",
    "plt.xlabel(\"Date\")\n",
    "plt.ylabel(\"y-axis\")\n",
    "\n",
    "# Add a title to the plot\n",
    "plt.title(\"Block & Search Data Over Time\")\n",
    "\n",
    "# Resize the plot\n",
    "plt.rcParams[\"figure.figsize\"] = (20,12)\n",
    "\n",
    "# Save the plot\n",
    "# plt.savefig(\"plots\\\\crypto_iot.jpg\", dpi = 300)\n",
    "\n",
    "# Show the plot\n",
    "plt.show()"
   ]
  },
  {
   "cell_type": "markdown",
   "id": "a265424d-1bfb-4fc8-96e8-5e7e95f7632c",
   "metadata": {
    "jp-MarkdownHeadingCollapsed": true,
    "tags": []
   },
   "source": [
    "### Visualize Block and Search Data (Scaled)"
   ]
  },
  {
   "cell_type": "code",
   "execution_count": null,
   "id": "6f3eb91c",
   "metadata": {},
   "outputs": [],
   "source": [
    "# Create subplots\n",
    "fig, ax = plt.subplots()\n",
    "line1, = ax.plot(block_and_search_scaled['Bitcoin'].truncate(before=list(block_and_search_scaled.index)[14]), label=\"BTC\")\n",
    "# line2, = ax.plot(block_and_search_scaled['Ethereum'].truncate(before=list(block_and_search_scaled.index)[14]), label=\"ETH\")\n",
    "line3, = ax.plot(block_and_search_scaled['size'].truncate(before=list(block_and_search_scaled.index)[14]), label=\"Size\")\n",
    "# line4, = ax.plot(block_and_search_scaled['stripped_size'].truncate(before=list(block_and_search_scaled.index)[14]), label=\"Stripped Size\")\n",
    "\n",
    "# Create a legend for the plot\n",
    "first_legend = ax.legend(handles=[line1,line3], loc='upper left')\n",
    "\n",
    "# Add the legend manually to the Axes.\n",
    "ax.add_artist(first_legend)\n",
    "\n",
    "# Label the x and y axis\n",
    "plt.xlabel(\"Date\")\n",
    "plt.ylabel(\"Relative Interest\")\n",
    "\n",
    "# Add a title to the plot\n",
    "plt.title(\"Block & Search Data Over Time\")\n",
    "\n",
    "# Resize the plot\n",
    "plt.rcParams[\"figure.figsize\"] = (20,12)\n",
    "\n",
    "# Save the plot\n",
    "# plt.savefig(\"plots\\\\crypto_iot.jpg\", dpi = 300)\n",
    "\n",
    "# Show the plot\n",
    "plt.show()"
   ]
  },
  {
   "cell_type": "markdown",
   "id": "c2c4b8f8-30b6-4fd6-a1fe-b06f543ca188",
   "metadata": {
    "jp-MarkdownHeadingCollapsed": true,
    "tags": []
   },
   "source": [
    "### Import the original dataset"
   ]
  },
  {
   "cell_type": "code",
   "execution_count": null,
   "id": "40263ed0-2766-45ca-898a-e2980ca550b8",
   "metadata": {},
   "outputs": [],
   "source": [
    "# Bitcoin block data\n",
    "og_block_data = pk.load(open(\"og_data_binary\\\\og_block_data.p\", \"rb\"))\n",
    "# Crypto search data\n",
    "og_price_data = pk.load(open(\"og_data_binary\\\\og_price_data.p\", \"rb\"))"
   ]
  },
  {
   "cell_type": "markdown",
   "id": "081f49fd-8cab-43d8-be1a-befe1446b762",
   "metadata": {
    "jp-MarkdownHeadingCollapsed": true,
    "tags": []
   },
   "source": [
    "### Match the date range for both datasets"
   ]
  },
  {
   "cell_type": "code",
   "execution_count": null,
   "id": "1be977bc-93a4-4def-9493-4d2276bd28ac",
   "metadata": {},
   "outputs": [],
   "source": [
    "# Match the indexes\n",
    "dic = {}\n",
    "for i in list(og_block_data.index):\n",
    "    lst = [ ]\n",
    "    for k in [og_block_data[c][i] for c in og_block_data.columns]:\n",
    "        if type(k) == str:\n",
    "            key = k.split(\" \")[0]\n",
    "        else:\n",
    "            lst.append(k)\n",
    "            \n",
    "    if key not in dic.keys():\n",
    "        dic[key] = lst\n",
    "        \n",
    "# Convert back to dataframe and rename columns\n",
    "block_data_new = pd.DataFrame.from_dict(data=dic, orient='index', columns=['Height', 'Trans Volume', 'Stripped Size', 'Size', 'Weight', 'Avg. Transaction Fee', 'Block Reward', 'Block Reward Tips' ])\n",
    "\n",
    "# Truncate the data and match indexes\n",
    "block_data_new = block_data_new.reset_index()\n",
    "block_data_new = block_data_new.truncate(before=2078)\n",
    "block_data_new = block_data_new.set_index(og_price_data.index)\n",
    "\n",
    "# Save the dataframe\n",
    "pk.dump(block_data_new,open(\"price_and_block\\\\block_data_new.p\", \"wb\"))\n",
    "# block_data_new"
   ]
  },
  {
   "cell_type": "markdown",
   "id": "9adc8d88-c74e-45c4-8a34-b1caf32f15bc",
   "metadata": {
    "tags": []
   },
   "source": [
    "### Check that the data was cleaned and saved correctly"
   ]
  },
  {
   "cell_type": "code",
   "execution_count": null,
   "id": "664b1526-7ffd-4e00-b563-3b7555524c6a",
   "metadata": {},
   "outputs": [],
   "source": [
    "pk.load(open(\"price_and_block\\\\block_data_new.p\", \"rb\"))"
   ]
  },
  {
   "cell_type": "code",
   "execution_count": null,
   "id": "4712fa8a",
   "metadata": {},
   "outputs": [],
   "source": [
    "pk.load(open(\"og_data_binary\\\\og_price_data.p\", \"rb\"))"
   ]
  },
  {
   "cell_type": "markdown",
   "id": "6aa0e1de-58ac-4b77-85ab-7df1d02b5592",
   "metadata": {},
   "source": [
    "### Concatenate Price and Block Data"
   ]
  },
  {
   "cell_type": "code",
   "execution_count": null,
   "id": "4879e32c-aa38-41fd-b5c1-c98bba9a4838",
   "metadata": {},
   "outputs": [],
   "source": [
    "# Load in pickled data\n",
    "block_data_new =  pk.load(open(\"price_and_block\\\\block_data_new.p\", \"rb\"))\n",
    "\n",
    "# Concatenate the data\n",
    "price_and_block_concat = pd.concat([block_data_new,og_price_data],axis=1)\n",
    "price_and_block_concat = price_and_block_concat.drop(['index','Height'],axis=1)\n",
    "\n",
    "# Save the dataframe\n",
    "pk.dump(price_and_block_concat,open(\"price_and_block\\\\price_and_block_concat.p\", \"wb\"))\n",
    "\n",
    "# Show the dataframe\n",
    "price_and_block_concat"
   ]
  },
  {
   "cell_type": "markdown",
   "id": "fd2382d9-33ee-45e8-8438-f065e2a0a88c",
   "metadata": {},
   "source": [
    "### Calculate the correlation between the data points"
   ]
  },
  {
   "cell_type": "code",
   "execution_count": null,
   "id": "494dd31e-3fd1-4691-b847-4b9d8f24fb9e",
   "metadata": {},
   "outputs": [],
   "source": [
    "# Load binary files\n",
    "price_and_block_concat  = pk.load(open(\"price_and_block\\\\price_and_block_concat.p\", \"rb\"))\n",
    "\n",
    "# Show Correlation\n",
    "price_and_block_corr = price_and_block_concat.corr(method='pearson')\n",
    "\n",
    "# Saved the dataset\n",
    "pk.dump(price_and_block_corr, open(\"price_and_block\\\\price_and_block_corr.p\", \"wb\" ))\n",
    "\n",
    "# Show the dataset\n",
    "price_and_block_corr"
   ]
  },
  {
   "cell_type": "markdown",
   "id": "c7478707-ed25-4b63-94d2-2dd0e4abc047",
   "metadata": {},
   "source": [
    "### Visualize the correlation as a heat map"
   ]
  },
  {
   "cell_type": "code",
   "execution_count": null,
   "id": "24f7cb82",
   "metadata": {},
   "outputs": [],
   "source": [
    "plt.subplots(figsize= (30,12))\n",
    "sns.heatmap(price_and_block_corr, annot= True, fmt= '.2%')\n",
    "plt.title(\"Bitcoin Block & Price Data\")\n",
    "plt.savefig(\"price_and_block\\\\price_and_block_corr.jpg\", dpi = 300)"
   ]
  },
  {
   "cell_type": "markdown",
   "id": "32942a76-3bed-4178-b6aa-a5202aa6ded4",
   "metadata": {},
   "source": [
    "### Min-Max Scale the data so we can better visualize the change over time"
   ]
  },
  {
   "cell_type": "code",
   "execution_count": null,
   "id": "44fcdafc-0800-4cb0-b81a-0630250a0675",
   "metadata": {},
   "outputs": [],
   "source": [
    "# Load binary files\n",
    "price_and_block_concat = pk.load(open(\"price_and_block\\\\price_and_block_concat.p\", \"rb\"))\n",
    "\n",
    "#Scale the data\n",
    "min_max_scaler = preprocessing.MinMaxScaler(feature_range=(0, 100))\n",
    "scaled = min_max_scaler.fit_transform(price_and_block_concat)\n",
    "price_and_block_scaled = pd.DataFrame(scaled, columns = price_and_block_concat.columns)\n",
    "price_and_block_scaled = price_and_block_scaled.set_index(price_and_block_concat.index)\n",
    "\n",
    "# Save the dataframe\n",
    "pk.dump(price_and_block_scaled, open(\"price_and_block\\\\price_and_block_scaled.p\", \"wb\" ))\n",
    "price_and_block_scaled"
   ]
  },
  {
   "cell_type": "markdown",
   "id": "aafdfaee-78ba-4744-aa0b-4bffabb4eb32",
   "metadata": {},
   "source": [
    "### Visualize Price and Block data (Unscaled)"
   ]
  },
  {
   "cell_type": "code",
   "execution_count": null,
   "id": "017a08d4-2310-4857-95ba-11640d451200",
   "metadata": {},
   "outputs": [],
   "source": [
    "# Create subplots\n",
    "fig, ax = plt.subplots()\n",
    "# line1, = ax.plot(price_and_block_concat['Size'], label=\"Block Size\")\n",
    "line2, = ax.plot(price_and_block_concat['Volume'], label=\"Transaction Volume\")\n",
    "# line3, = ax.plot(df_scale['High'], label=\"Price\")\n",
    "# line4, = ax.plot(df_scale['High'], label=\"Price\")\n",
    "# line5, = ax.plot(df_scale['High'], label=\"Price\")\n",
    "\n",
    "# Create a legend for the plot\n",
    "first_legend = ax.legend(handles=[line2], loc='upper left')\n",
    "\n",
    "# Add the legend manually to the Axes.\n",
    "ax.add_artist(first_legend)\n",
    "\n",
    "# Label the x and y axis\n",
    "plt.xlabel(\"Time\")\n",
    "plt.ylabel(\"y-axis\")\n",
    "\n",
    "# Add a title to the plot\n",
    "plt.title(\"Price & Block Data Over Time\")\n",
    "\n",
    "# Save the plot to present directory\n",
    "plt.rcParams[\"figure.figsize\"] = (20,12)\n",
    "\n",
    "# Save the plot to present directory\n",
    "plt.savefig(\"plots\\\\crypto_iot.jpg\", dpi = 300)\n",
    "\n",
    "# Show the plot\n",
    "plt.show()"
   ]
  },
  {
   "cell_type": "markdown",
   "id": "d5aa01d8-7269-4078-872a-375c3a318743",
   "metadata": {
    "tags": []
   },
   "source": [
    "### Visualize Price and Block data (Scaled)"
   ]
  },
  {
   "cell_type": "code",
   "execution_count": null,
   "id": "fcf56860-ff38-4796-afde-5db66f01db67",
   "metadata": {},
   "outputs": [],
   "source": [
    "# Create subplots\n",
    "fig, ax = plt.subplots()\n",
    "line1, = ax.plot(price_and_block_scaled['Size'], label=\"Bitcoin Transaction Fees\")\n",
    "line2, = ax.plot(price_and_block_scaled['Volume'], label=\"Trading Volume\")\n",
    "line3, = ax.plot(price_and_block_scaled['Open'], label=\"Trading Volume\")\n",
    "# line3, = ax.plot(df_scale['High'], label=\"Price\")\n",
    "# line4, = ax.plot(df_scale['High'], label=\"Price\")\n",
    "# line5, = ax.plot(df_scale['High'], label=\"Price\")\n",
    "\n",
    "# Create a legend for the plot\n",
    "first_legend = ax.legend(handles=[line1,line2,line3], loc='upper left')\n",
    "\n",
    "# Add the legend manually to the Axes.\n",
    "ax.add_artist(first_legend)\n",
    "\n",
    "# Label the x and y axis\n",
    "plt.xlabel(\"Time\")\n",
    "plt.ylabel(\"Price and Interest (Scaled from 1-100)\")\n",
    "\n",
    "# Add a title to the plot\n",
    "plt.title(\"Crypto Price and Block Data\")\n",
    "\n",
    "# Adjust the plot's size\n",
    "plt.rcParams[\"figure.figsize\"] = (20,12)\n",
    "\n",
    "# Save the plot to present directory\n",
    "plt.savefig(\"price_and_block\\\\price_and_block_scaled.jpg\", dpi = 300)\n",
    "\n",
    "# Show the plot\n",
    "plt.show()"
   ]
  },
  {
   "cell_type": "markdown",
   "id": "1aa61396",
   "metadata": {
    "tags": []
   },
   "source": [
    "# Search & Price Data"
   ]
  },
  {
   "cell_type": "markdown",
   "id": "b9288a18",
   "metadata": {},
   "source": [
    "### Import the original datasets"
   ]
  },
  {
   "cell_type": "code",
   "execution_count": null,
   "id": "11c2a071",
   "metadata": {},
   "outputs": [],
   "source": [
    "# Crypto Search Data\n",
    "og_search_data = pk.load(open(\"binary\\\\og_search_data.p\", \"rb\"))"
   ]
  },
  {
   "cell_type": "code",
   "execution_count": null,
   "id": "3d88b12f",
   "metadata": {},
   "outputs": [],
   "source": [
    "# Set the keyword & timeframe\n",
    "keywords = [\"Bitcoin\", \"Dogecoin\", \"Ethereum\", \"Binance Coin\", \"Litecoin\"]\n",
    "pt.build_payload(keywords, timeframe=\"all\")\n",
    "\n",
    "# Get the interest over time\n",
    "crypto_search_data = pt.interest_over_time()\n",
    "\n",
    "# Save search data as pickled pandas datafame and .csv file\n",
    "pk.dump(crypto_search, open( \"binary\\\\crypto_search_data.p\", \"wb\" ) )"
   ]
  },
  {
   "cell_type": "code",
   "execution_count": null,
   "id": "cc5a1d8d",
   "metadata": {},
   "outputs": [],
   "source": [
    "# Import yfinance package\n",
    "import yfinance as yf\n",
    "crypto_price = yf.download(\"BTC-USD ETH-USD DOGE-USD BNB-USD LTC-USD\", start=\"2009-01-01\", end=\"2022-05-01\",interval = \"1d\")\n",
    "\n",
    "# Save price data as pickled pandas datafame and .csv file\n",
    "pk.dump(crypto_price, open( \"binary\\\\crypto_price_data.p\", \"wb\" ) )\n",
    "crypto_price"
   ]
  },
  {
   "cell_type": "code",
   "execution_count": null,
   "id": "fa472135-d225-4511-a6b2-70518bae0c29",
   "metadata": {},
   "outputs": [],
   "source": [
    "crypto_price.to_csv('csv\\\\crypto_price_a.csv')"
   ]
  },
  {
   "cell_type": "markdown",
   "id": "bced4197",
   "metadata": {},
   "source": [
    "### Match the date range for both datasets"
   ]
  },
  {
   "cell_type": "code",
   "execution_count": null,
   "id": "27314b1f-21f5-41bc-b942-7b848714c7b0",
   "metadata": {},
   "outputs": [],
   "source": [
    "# Match the indexes\n",
    "for i in crypto_search_data.index:\n",
    "    if int(str(i)[2:4]) < 14:\n",
    "        crypto_search_data.drop(i, inplace=True)\n",
    "    if str(i)[2:4] == '14' and int(str(i)[5:7]) < 10:\n",
    "        crypto_search_data.drop(i, inplace=True)\n",
    "\n",
    "# Drop the column\n",
    "new_search_data = crypto_search_data.drop('isPartial',inplace=False,axis=1)\n",
    "\n",
    "# Save the dataframe\n",
    "pk.dump(new_search_data, open(\"binary\\\\new_search_data.p\", \"wb\"))"
   ]
  },
  {
   "cell_type": "code",
   "execution_count": null,
   "id": "69069788",
   "metadata": {},
   "outputs": [],
   "source": [
    "# Load Binary file\n",
    "crypto_price_data = pk.load(open(\"binary\\\\crypto_price_data.p\", \"rb\"))\n",
    "\n",
    "# Match the indexes\n",
    "for i in crypto_price_data.index:\n",
    "    if str(i)[8:10] != '01':\n",
    "        crypto_price_data.drop(i, inplace=True)\n",
    "\n",
    "# Save the dataframe\n",
    "pk.dump(crypto_price_data, open(\"binary\\\\crypto_price_data.p\", \"wb\"))"
   ]
  },
  {
   "cell_type": "markdown",
   "id": "81415f64",
   "metadata": {},
   "source": [
    "### Check that the data was cleaned and saved correctly"
   ]
  },
  {
   "cell_type": "code",
   "execution_count": null,
   "id": "66a251c0",
   "metadata": {},
   "outputs": [],
   "source": [
    "pk.load(open(\"binary\\\\crypto_price_data.p\", \"rb\"))"
   ]
  },
  {
   "cell_type": "code",
   "execution_count": null,
   "id": "b04358d2",
   "metadata": {},
   "outputs": [],
   "source": [
    "pk.load(open(\"binary\\\\new_search_data.p\", \"rb\"))"
   ]
  },
  {
   "cell_type": "markdown",
   "id": "ec895648",
   "metadata": {},
   "source": [
    "### Concatenate Search and Price Data"
   ]
  },
  {
   "cell_type": "code",
   "execution_count": null,
   "id": "bfd86eb0-06f0-493d-9b17-a4c09145d55e",
   "metadata": {},
   "outputs": [],
   "source": [
    "search_data"
   ]
  },
  {
   "cell_type": "code",
   "execution_count": null,
   "id": "8b9bdc96-aa19-45df-8624-2fc39125825d",
   "metadata": {},
   "outputs": [],
   "source": [
    "price_data = pk.load(open(\"binary\\\\crypto_price_data.p\", \"rb\"))\n",
    "search_data = pk.load(open(\"binary\\\\new_search_data.p\", \"rb\"))\n",
    "search_data.drop(search_data.index[-1], inplace=True)\n",
    "search_data\n",
    "\n",
    "# Iterate over the price_data columns and drop the columns that do not have the string \"Close\" in them\n",
    "for i in price_data.columns:\n",
    "    if \"Open\" not in i:\n",
    "        price_data.drop(i, inplace=True, axis=1)\n",
    "\n",
    "# Concatendate the two dataframes\n",
    "search_and_price_concat = pd.concat([search_data,price_data],axis=1)\n",
    "\n",
    "# Add a column to the dataframe that contains the length of the dataframe\n",
    "search_and_price_concat['Time'] = [i for i in range(len(search_and_price_concat.index))]\n",
    "\n",
    "search_and_price_concat.columns = ['Bitcoin Searches', 'Dogecoin Searches', 'Ethereum Searches', 'Binance Coin Searches', 'Litecoin Searches', 'BNB-USD', 'BTC-USD', 'DOGE-USD','ETH-USD','LTC-USD','Time']\n",
    "search_and_price_concat.drop(['Binance Coin Searches','BNB-USD'], \n",
    "                             inplace=True,\n",
    "                             axis='columns')\n",
    "            \n",
    "\n",
    "# Save the dataframe\n",
    "pk.dump(search_and_price_concat, open(\"binary\\\\search_and_price_concat.p\", \"wb\"))\n",
    "search_and_price_concat"
   ]
  },
  {
   "cell_type": "markdown",
   "id": "447156c9",
   "metadata": {},
   "source": [
    "### Calculate the correlation between the data points"
   ]
  },
  {
   "cell_type": "code",
   "execution_count": null,
   "id": "4c5d53fb-1c6c-44c0-a1d1-f2b4e0303525",
   "metadata": {},
   "outputs": [],
   "source": [
    "# Calculate the correlation\n",
    "search_and_price_corr = search_and_price_concat.corr(method='pearson')\n",
    "\n",
    "# Save the dataframe\n",
    "pk.dump(search_and_price_corr, open(\"binary\\\\search_and_price_corr.p\", \"wb\"))"
   ]
  },
  {
   "cell_type": "markdown",
   "id": "c5935ee9",
   "metadata": {},
   "source": [
    "#### Visualize the correlation as a heat map"
   ]
  },
  {
   "cell_type": "code",
   "execution_count": null,
   "id": "2e37381f-9cf5-4fd4-8a26-da3d8d1cef6d",
   "metadata": {},
   "outputs": [],
   "source": [
    "plt.subplots(figsize= (25,12))\n",
    "sns.heatmap(search_and_price_corr, annot= True, fmt= '.2%')\n",
    "plt.title(\"Crypto Price & Search Data\")\n",
    "plt.savefig(\"plots\\\\search_and_price_corr.jpg\", dpi = 300)"
   ]
  },
  {
   "cell_type": "markdown",
   "id": "5af22dbf",
   "metadata": {},
   "source": [
    "### Min-Max Scale the data so we can better visualize the change over time"
   ]
  },
  {
   "cell_type": "code",
   "execution_count": null,
   "id": "a71eb3fe-e085-40ac-8110-283ba591847f",
   "metadata": {},
   "outputs": [],
   "source": [
    "#Scale the data\n",
    "from sklearn import preprocessing\n",
    "min_max_scaler = preprocessing.MinMaxScaler(feature_range=(0, 100))\n",
    "scaled = min_max_scaler.fit_transform(search_and_price_concat)\n",
    "search_and_price_scale = pd.DataFrame(scaled, columns = search_and_price_concat.columns)\n",
    "search_and_price_scale = search_and_price_scale.set_index(search_and_price_concat.index)\n",
    "\n",
    "# Save the dataframe\n",
    "search_and_price_scale.to_csv(\"csv\\\\search_and_price_scale.csv\")\n",
    "search_and_price_scale.to_pickle(\"binary\\\\search_and_price_scale.p\")\n",
    "\n",
    "# Show the plot\n",
    "search_and_price_scale['dates'] = search_and_price_scale.index\n",
    "search_and_price_scale"
   ]
  },
  {
   "cell_type": "markdown",
   "id": "8b47bee2",
   "metadata": {},
   "source": [
    "### Visualize Price and Search data (Unscaled)"
   ]
  },
  {
   "cell_type": "code",
   "execution_count": null,
   "id": "37a98619-f30a-4e57-9b2c-6cee0776dbdd",
   "metadata": {},
   "outputs": [],
   "source": [
    "plt.subplots(figsize= (20,12))\n",
    "\n",
    "sns.set_theme(color_codes=True)\n",
    "\n",
    "sns.lineplot(x='dates',\n",
    "            y='Dogecoin Searches',\n",
    "            data=search_and_price_scale,\n",
    "            label='Dogecoin Searches')\n",
    "\n",
    "sns.lineplot(x='dates', \n",
    "            y='DOGE-USD', \n",
    "            data=search_and_price_scale,\n",
    "            label='DOGE-USD',\n",
    "            linestyle=\"dashed\")\n",
    "\n",
    "plt.title(\"Dogecoin Search & Price Plot\")\n",
    "plt.xlabel('Time')\n",
    "plt.ylabel('y-axis')\n",
    "# plt.ylim([0, 100])\n",
    "\n",
    "plt.legend(loc='upper left')\n",
    "\n",
    "# Save plot\n",
    "plt.savefig(\"plots\\\\search_and_price_plot_doge.jpg\", dpi = 300)\n",
    "plt.show()"
   ]
  },
  {
   "cell_type": "code",
   "execution_count": null,
   "id": "f0d2be93-cd7e-4c55-9f71-652da3edf23c",
   "metadata": {},
   "outputs": [],
   "source": [
    "plt.subplots(figsize= (20,12))\n",
    "\n",
    "sns.set_theme(color_codes=True)\n",
    "\n",
    "sns.lineplot(x='dates',\n",
    "            y='Litecoin Searches',\n",
    "            data=search_and_price_scale,\n",
    "            label='Litecoin Searches')\n",
    "\n",
    "sns.lineplot(x='dates', \n",
    "            y='LTC-USD', \n",
    "            data=search_and_price_scale,\n",
    "            label='LTC-USD',\n",
    "            linestyle=\"dashed\")\n",
    "\n",
    "plt.title(\"Litecoin Search & Price Plot\")\n",
    "plt.xlabel('Time')\n",
    "plt.ylabel('y-axis')\n",
    "# plt.ylim([0, 100])\n",
    "\n",
    "plt.legend(loc='upper left')\n",
    "\n",
    "# Save plot\n",
    "plt.savefig(\"plots\\\\search_and_price_plot_ltc.jpg\", dpi = 300)\n",
    "plt.show()"
   ]
  },
  {
   "cell_type": "code",
   "execution_count": null,
   "id": "970fb65c-aed2-4ad7-b505-6e0157e99953",
   "metadata": {},
   "outputs": [],
   "source": [
    "plt.subplots(figsize= (20,12))\n",
    "\n",
    "sns.set_theme(color_codes=True)\n",
    "\n",
    "sns.lineplot(x='Time',\n",
    "            y='Ethereum Searches',\n",
    "            data=search_and_price_scale,\n",
    "            label='Ethereum Searches')\n",
    "\n",
    "sns.lineplot(x='Time', \n",
    "            y='ETH-USD', \n",
    "            data=search_and_price_scale,\n",
    "            label='ETH-USD',\n",
    "            linestyle=\"dashed\")\n",
    "\n",
    "plt.title(\"Ethereum Search & Price Plot\")\n",
    "plt.xlabel('Time')\n",
    "plt.ylabel('y-axis')\n",
    "# plt.ylim([0, 100])\n",
    "\n",
    "plt.legend(loc='upper left')\n",
    "\n",
    "# Save plot\n",
    "plt.savefig(\"plots\\\\search_and_price_plot_eth.jpg\", dpi = 300)\n",
    "plt.show()"
   ]
  },
  {
   "cell_type": "code",
   "execution_count": null,
   "id": "1b8719d9-f5ba-4f5c-b880-90f5436e4396",
   "metadata": {},
   "outputs": [],
   "source": [
    "plt.subplots(figsize= (20,12))\n",
    "\n",
    "sns.set_theme(color_codes=True)\n",
    "\n",
    "sns.lineplot(x='Time',\n",
    "            y='Bitcoin Searches',\n",
    "            data=search_and_price_scale,\n",
    "            label='Bitcoin Searches')\n",
    "\n",
    "sns.lineplot(x='Time', \n",
    "            y='BTC-USD', \n",
    "            data=search_and_price_scale,\n",
    "            label='BTC-USD',\n",
    "            linestyle=\"dashed\")\n",
    "\n",
    "plt.title(\"Bitcoin Search & Price Plot\")\n",
    "plt.xlabel('Time')\n",
    "plt.ylabel('y-axis')\n",
    "# plt.ylim([0, 100])\n",
    "\n",
    "plt.legend(loc='upper left')\n",
    "\n",
    "# Save plot\n",
    "plt.savefig(\"plots\\\\search_and_price_plot_btc.jpg\", dpi = 300)\n",
    "plt.show()"
   ]
  },
  {
   "cell_type": "code",
   "execution_count": null,
   "id": "e20e6c5c-a1d3-482c-946b-5cfc202daa69",
   "metadata": {},
   "outputs": [],
   "source": [
    "plt.subplots(figsize= (20,12))\n",
    "\n",
    "sns.set_theme(color_codes=True)\n",
    "\n",
    "sns.regplot(x='Time',\n",
    "            y='Bitcoin Searches',\n",
    "            data=search_and_price_scale,\n",
    "            label='Bitcoin Searches',\n",
    "            scatter=False,\n",
    "            # ci=True,\n",
    "            order=3)    \n",
    "\n",
    "sns.regplot(x='Time',\n",
    "            y='BTC-USD',\n",
    "            data=search_and_price_scale,\n",
    "            label='BTC-USD',\n",
    "            scatter=False,\n",
    "            # ci=True,\n",
    "            order=3)    \n",
    "\n",
    "# sns.lineplot(x='Time',\n",
    "#             y='Bitcoin Searches',\n",
    "#             data=search_and_price_scale,\n",
    "#             label='Bitcoin Searches')\n",
    "\n",
    "# sns.lineplot(x='Time',\n",
    "#             y='Ethereum Searches',\n",
    "#             data=search_and_price_scale,\n",
    "#             label='Ethereum Searches',\n",
    "#             linestyle=\"dashed\")    \n",
    "\n",
    "# sns.lineplot(x='Time', \n",
    "#             y='BTC-USD', \n",
    "#             data=search_and_price_scale,\n",
    "#             label='BTC-USD',\n",
    "#             linestyle=\"dashed\")\n",
    "#             # scatter=False,)    \n",
    "\n",
    "# sns.lineplot(x='Time',\n",
    "#             y='ETH-USD',\n",
    "#             data=search_and_price_scale,\n",
    "#             label='ETH-USD')\n",
    "\n",
    "# sns.regplot(x='Time', \n",
    "#             y='BTC-USD', \n",
    "#             data=search_and_price_scale,\n",
    "#             label='BTC-USD',\n",
    "#             scatter=False,\n",
    "#             order=3)    \n",
    "\n",
    "# sns.regplot(x='Time',\n",
    "#             y='ETH-USD',\n",
    "#             data=search_and_price_scale,\n",
    "#             label='ETH-USD',\n",
    "#             scatter=False,\n",
    "#             order=3)    \n",
    "\n",
    "\n",
    "plt.title(\"Search & Price Plot\")\n",
    "plt.xlabel('Time')\n",
    "plt.ylabel('y-axis')\n",
    "# plt.ylim([0, 100])\n",
    "\n",
    "plt.legend(loc='upper left')\n",
    "\n",
    "# Save plot\n",
    "# plt.savefig(\"plots\\\\search_and_price_plot.jpg\", dpi = 300)\n",
    "plt.show()"
   ]
  },
  {
   "cell_type": "code",
   "execution_count": null,
   "id": "b1addfdb",
   "metadata": {},
   "outputs": [],
   "source": [
    "# Create subplots\n",
    "fig, ax = plt.subplots()\n",
    "line1, = ax.plot(search_and_price_concat['Bitcoin'], label=\"BTC-UDS\")\n",
    "line2, = ax.plot(search_and_price_concat['Ethereum'], label=\"ETH-USD\")\n",
    "line3, = ax.plot(search_and_price_concat['Binance Coin'], label=\"BNB-USD\")\n",
    "\n",
    "# Create a legend for the plot\n",
    "first_legend = ax.legend(handles=[line1,line2,line3], loc='upper left')\n",
    "\n",
    "# Add the legend manually to the Axes.\n",
    "ax.add_artist(first_legend)\n",
    "\n",
    "# Label the x and y axis\n",
    "plt.xlabel(\"Time\")\n",
    "plt.ylabel(\"y-axis\")\n",
    "\n",
    "# Add a title to the plot\n",
    "plt.title(\"Bitcoin Price & Search Data\")\n",
    "\n",
    "# Save the plot to present directory\n",
    "plt.rcParams[\"figure.figsize\"] = (20,12)\n",
    "plt.savefig(\"search_and_price\\\\search_and_price_data_unsacled.jpg\", dpi = 300)\n",
    "\n",
    "# Show the plot\n",
    "plt.show()\n"
   ]
  },
  {
   "cell_type": "markdown",
   "id": "6e59457a",
   "metadata": {},
   "source": [
    "### Visualize Price and Search data (Scaled)"
   ]
  },
  {
   "cell_type": "code",
   "execution_count": null,
   "id": "05e7a562",
   "metadata": {},
   "outputs": [],
   "source": [
    "# Create subplots\n",
    "fig, ax = plt.subplots()\n",
    "line1, = ax.plot(search_and_price_scale['Ethereum'], label=\"Ethereum Searches\")\n",
    "line2, = ax.plot(search_and_price_scale[('Close','BTC-USD')], label=\"BTC-USD\")\n",
    "# line3, = ax.plot(search_and_price_scale[('Close','BNB-USD')], label=\"BNB-USD\")\n",
    "# line4, = ax.plot(search_and_price_scale[('Close','ETH-USD')], label=\"ETH-USD\")\n",
    "\n",
    "# Create a legend for the plot\n",
    "first_legend = ax.legend(handles=[line1,line2], loc='upper left')\n",
    "\n",
    "# Add the legend manually to the Axes.\n",
    "ax.add_artist(first_legend)\n",
    "\n",
    "# Label the x and y axis\n",
    "plt.xlabel(\"Time\")\n",
    "plt.ylabel(\"y-axis\")\n",
    "\n",
    "# Add a title to the plot\n",
    "plt.title(\"Bitcoin Price & Search Data\")\n",
    "\n",
    "# Save the plot to present directory\n",
    "plt.rcParams[\"figure.figsize\"] = (20,12)\n",
    "plt.savefig(\"search_and_price\\\\search_and_price_data_scaled.jpg\", dpi = 300)\n",
    "\n",
    "# Show the plot\n",
    "plt.show()"
   ]
  },
  {
   "cell_type": "markdown",
   "id": "d7e5ee6e-5af2-4e3f-a8a1-fc041c5c9df6",
   "metadata": {
    "tags": []
   },
   "source": [
    "# Regression Plots"
   ]
  },
  {
   "cell_type": "code",
   "execution_count": null,
   "id": "11ebda80",
   "metadata": {},
   "outputs": [],
   "source": [
    "plt.subplots(figsize= (20,12))\n",
    "plt.title(\"Dogecoin Search and Price correlation\")\n",
    "sns.set_theme(color_codes=True)\n",
    "sns.regplot(x='Time', y='Open', data=test_scaled)    \n",
    "sns.regplot(x='Time', y='Dogecoin', data=test_scaled)    \n",
    "# plt.legend(labels=[\"Open\",\"Dogecoin\"])\n",
    "# sns.lmplot(x=\"height\", y=i, data=test, x_jitter=.05)\n",
    "# plt.savefig(f\"block_and_search\\\\weight_reg.jpg\", dpi = 300)"
   ]
  },
  {
   "cell_type": "code",
   "execution_count": null,
   "id": "a4a5409e",
   "metadata": {},
   "outputs": [],
   "source": [
    "# Generate data\n",
    "# x = rng.uniform(0, 10, size=100)\n",
    "# y = x + rng.normal(size=100)\n",
    "\n",
    "# Initialize layout\n",
    "fig, ax = plt.subplots(figsize = (20, 12))\n",
    "plt.subplots(figsize= (20,12))\n",
    "\n",
    "x = search_and_price_concat['Length']\n",
    "y = search_and_price_concat['Ethereum']\n",
    "\n",
    "ax = sns.regplot(x=\"Length\", y=\"Ethereum\", data=search_and_price_concat)\n",
    "ax = sns.regplot(x=\"Length\", y=\"Ethereum\", data=search_and_price_concat)\n",
    "\n"
   ]
  },
  {
   "cell_type": "markdown",
   "id": "709fa0dc",
   "metadata": {
    "tags": []
   },
   "source": [
    "# OTHER"
   ]
  },
  {
   "cell_type": "code",
   "execution_count": null,
   "id": "78649f58",
   "metadata": {},
   "outputs": [],
   "source": [
    "# Plot BTC Volume\n",
    "btc['Volume'].plot(figsize=(10, 6))\n",
    "# Label the x and y axis\n",
    "plt.xlabel(\"Date\")\n",
    "plt.ylabel(\"Price\")\n",
    "# Save the plot to present directory\n",
    "plt.savefig(\"plots\\\\btc_volume.png\")"
   ]
  },
  {
   "cell_type": "code",
   "execution_count": null,
   "id": "7d17870b",
   "metadata": {},
   "outputs": [],
   "source": [
    "# initialize a new Google Trends Request Object\n",
    "pt = TrendReq(hl=\"en-US\", tz=360)\n",
    "# set the keyword & timeframe\n",
    "keywords = [\"Coinbase\", \"Binance\"]\n",
    "pt.build_payload(keywords, timeframe=\"all\")\n",
    "# get the interest over time\n",
    "exch_iot = pt.interest_over_time()\n",
    "# Save iot as a .csv file in the current directory\n",
    "exch_iot.to_csv(\"data\\\\exch_iot.csv\")\n",
    "exch_iot"
   ]
  },
  {
   "cell_type": "code",
   "execution_count": null,
   "id": "b4098718",
   "metadata": {},
   "outputs": [],
   "source": [
    "# Create subplots\n",
    "fig, ax = plt.subplots()\n",
    "line1, = ax.plot(exch_iot['Coinbase'].truncate(before=list(exch_iot.index)[145]), label=\"Coinbase\")\n",
    "line2, = ax.plot(exch_iot['Binance'].truncate(before=list(exch_iot.index)[145]), label=\"Binance\")\n",
    "\n",
    "# Create a legend for the plot\n",
    "first_legend = ax.legend(handles=[line1,line2], loc='upper left')\n",
    "\n",
    "# Add the legend manually to the Axes.\n",
    "ax.add_artist(first_legend)\n",
    "\n",
    "# Label the x and y axis\n",
    "plt.xlabel(\"Date\")\n",
    "plt.ylabel(\"Relative Interest\")\n",
    "\n",
    "# Add a title to the plot\n",
    "plt.title(\"Crypto Exchange Interest Over Time\")\n",
    "\n",
    "# Save the plot to present directory\n",
    "plt.rcParams[\"figure.figsize\"] = (20,12)\n",
    "plt.savefig(\"plots\\\\exch_iot.jpg\", dpi = 300)\n",
    "\n",
    "# Show the plot\n",
    "plt.show()\n"
   ]
  },
  {
   "cell_type": "code",
   "execution_count": null,
   "id": "02dc1a0d",
   "metadata": {},
   "outputs": [],
   "source": [
    "# Plot BTC Volume\n",
    "btc['High'].plot(figsize=(10, 6))\n",
    "# Label the x and y axis\n",
    "plt.xlabel(\"Date\")\n",
    "plt.ylabel(\"Price\")\n",
    "# Save the plot to present directory\n",
    "plt.savefig(\"plots\\\\btc_volume.png\")"
   ]
  },
  {
   "cell_type": "code",
   "execution_count": null,
   "id": "fb54e052",
   "metadata": {},
   "outputs": [],
   "source": [
    "# the keyword to extract data\n",
    "keyword = [\"Bitcoin\"]\n",
    "pt.build_payload(keyword, timeframe=\"all\")\n",
    "# get the interest by country\n",
    "ibr = pt.interest_by_region(\"COUNTRY\", inc_low_vol=True, inc_geo_code=True)\n",
    "# Convert the series ibr to pandas dataframe\n",
    "ibr = pd.DataFrame(ibr)\n",
    "# Sort the dataframe by the value of the column \"Bitcoin\"\n",
    "ibr.sort_values(\"Bitcoin\", inplace=True, ascending=False)\n",
    "# Save the dataframe to a csv file\n",
    "ibr.to_csv(\"data\\\\ibr.csv\")\n",
    "ibr"
   ]
  }
 ],
 "metadata": {
  "kernelspec": {
   "display_name": "Python 3.10.6 ('btc-stat-analysis': venv)",
   "language": "python",
   "name": "python3"
  },
  "language_info": {
   "codemirror_mode": {
    "name": "ipython",
    "version": 3
   },
   "file_extension": ".py",
   "mimetype": "text/x-python",
   "name": "python",
   "nbconvert_exporter": "python",
   "pygments_lexer": "ipython3",
   "version": "3.10.6"
  },
  "vscode": {
   "interpreter": {
    "hash": "223779c792c557fddc8ed711c4d1fe1f2abcef16a2b0a96df17f2cb6c46e783e"
   }
  }
 },
 "nbformat": 4,
 "nbformat_minor": 5
}
