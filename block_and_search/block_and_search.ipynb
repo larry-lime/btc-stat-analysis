{
 "cells": [
  {
   "cell_type": "markdown",
   "id": "51f6b8f0-930a-4874-a1ac-1560abd06526",
   "metadata": {
    "tags": []
   },
   "source": [
    "# Block & Search Data"
   ]
  },
  {
   "cell_type": "code",
   "execution_count": 1,
   "id": "962084dd-8535-42a5-9fbe-00311aa3e72f",
   "metadata": {},
   "outputs": [],
   "source": [
    "# Data Analysis Packages\n",
    "from sklearn import preprocessing\n",
    "import pandas as pd\n",
    "import numpy as np\n",
    "import pickle as pk"
   ]
  },
  {
   "cell_type": "code",
   "execution_count": 2,
   "id": "371109a3-5c04-4345-8cf8-8a323a77f185",
   "metadata": {},
   "outputs": [],
   "source": [
    "# Graphing Packages\n",
    "import seaborn as sns\n",
    "import matplotlib.pyplot as plt\n",
    "plt.style.use('ggplot')"
   ]
  },
  {
   "cell_type": "markdown",
   "id": "0abc48d6",
   "metadata": {
    "tags": []
   },
   "source": [
    "# Import and Save Data"
   ]
  },
  {
   "cell_type": "code",
   "execution_count": null,
   "id": "3914c4fe-3794-44f2-a185-f70b6d63ce8f",
   "metadata": {},
   "outputs": [],
   "source": [
    "for i in range(10):\n",
    "    "
   ]
  },
  {
   "cell_type": "markdown",
   "id": "c7a9975d-70b5-4169-a929-67c296558141",
   "metadata": {
    "tags": []
   },
   "source": [
    "### Bitcoin Block Data (from Prof. Zhang)"
   ]
  },
  {
   "cell_type": "code",
   "execution_count": null,
   "id": "2ad17640-d8b6-478a-8a82-80b6ff6382b0",
   "metadata": {},
   "outputs": [],
   "source": [
    "# Import BTC Dataset given to us by Prof. Zhang\n",
    "file_location = '..\\\\dataset.csv'\n",
    "btc_block_data = pd.read_csv(file_location,low_memory=False)\n",
    "\n",
    "# Save the data as a pickled pandas dataframe\n",
    "pk.dump(btc_block_data, open( \"binary\\\\og_block_data.p\", \"wb\" ))"
   ]
  },
  {
   "cell_type": "markdown",
   "id": "7fd74283-aee4-49e5-9f4a-e0739231f578",
   "metadata": {
    "tags": []
   },
   "source": [
    "### New Bitcoin Block Data (from Blockchain.com)"
   ]
  },
  {
   "cell_type": "code",
   "execution_count": null,
   "id": "5233bcf6-a650-4560-bf67-7cba496025d4",
   "metadata": {},
   "outputs": [],
   "source": [
    "# Import BTC Dataset given to us by Prof. Zhang\n",
    "file_location = '..\\\\new_data.csv'\n",
    "btc_block_data = pd.read_csv(file_location,low_memory=False,index_col=0)\n",
    "\n",
    "# Save the data as a pickled pandas dataframe\n",
    "pk.dump(btc_block_data, open( \"binary\\\\new_btc_data.p\", \"wb\" ))"
   ]
  },
  {
   "cell_type": "markdown",
   "id": "9b4985c4-1c27-44e7-8b56-d668315e020e",
   "metadata": {},
   "source": [
    "### Crypto Search Data (from Google Trends) Absolute"
   ]
  },
  {
   "cell_type": "code",
   "execution_count": null,
   "id": "d99abaa3",
   "metadata": {},
   "outputs": [],
   "source": [
    "# Import pytrends package\n",
    "import pytrends as pt\n",
    "from pytrends.request import TrendReq\n",
    "\n",
    "# initialize a new Google Trends Request Object\n",
    "pt = TrendReq(hl=\"en-US\", tz=360)\n",
    "\n",
    "# Set the keyword & timeframe\n",
    "keywords = [\"Bitcoin\", \"Ethereum\", \"Dogecoin\", \"Binance Coin\", \"Litecoin\"]\n",
    "pt.build_payload(keywords, timeframe=\"all\")\n",
    "\n",
    "# Get the interest over time\n",
    "crypto_search = pt.interest_over_time()\n",
    "\n",
    "# Save search data as pickled pandas datafame and .csv file\n",
    "pk.dump(crypto_search, open( \"binary\\\\og_search_data.p\", \"wb\" ) )\n",
    "crypto_search.to_csv(\"csv\\\\og_search_data.csv\")\n"
   ]
  },
  {
   "cell_type": "markdown",
   "id": "776428f0-2b50-4f5d-9b3b-3703c1567490",
   "metadata": {},
   "source": [
    "### Crypto Search Data (from Google Trends) Relative"
   ]
  },
  {
   "cell_type": "code",
   "execution_count": null,
   "id": "5e00d01f-accc-46df-b381-92ba352ef6e7",
   "metadata": {},
   "outputs": [],
   "source": [
    "# initialize a new Google Trends Request Object\n",
    "pt = TrendReq(hl=\"en-US\", tz=360)\n",
    "\n",
    "# Set the keyword & timeframe\n",
    "keywords = [\"Bitcoin\", \"Ethereum\", \"Dogecoin\", \"Binance Coin\", \"Litecoin\"]\n",
    "\n",
    "crypto_search_relative = pd.DataFrame()\n",
    "\n",
    "for i in keywords:\n",
    "    pt.build_payload([i], timeframe=\"all\")\n",
    "\n",
    "    # Get the interest over time\n",
    "    df = pt.interest_over_time()\n",
    "    crypto_search_relative = pd.concat([crypto_search_relative,df],axis=1)\n",
    "\n",
    "# Save search data as pickled pandas datafame and .csv file\n",
    "pk.dump(crypto_search_relative, open( \"binary\\\\og_search_data_relative.p\", \"wb\" ) )\n",
    "crypto_search.to_csv(\"csv\\\\og_search_data_relative.csv\")"
   ]
  },
  {
   "cell_type": "markdown",
   "id": "8519d894-b9d7-457b-8b81-c6a896cbc2c7",
   "metadata": {},
   "source": [
    "### Check that everything was imported and saved successfully"
   ]
  },
  {
   "cell_type": "code",
   "execution_count": null,
   "id": "3fa0a2b5-f015-45db-9acd-bc0bfb48e92c",
   "metadata": {},
   "outputs": [],
   "source": [
    "# Bitcoin block data\n",
    "pk.load(open(\"binary\\\\og_block_data.p\", \"rb\"))"
   ]
  },
  {
   "cell_type": "code",
   "execution_count": null,
   "id": "5b1ce060-c2a5-4b4b-a248-e4b530ef5c22",
   "metadata": {},
   "outputs": [],
   "source": [
    "# Crypto search data\n",
    "pk.load(open(\"binary\\\\og_search_data.p\", \"rb\"))"
   ]
  },
  {
   "cell_type": "code",
   "execution_count": null,
   "id": "145496bb-3e7e-456e-a003-1472c9626e0c",
   "metadata": {},
   "outputs": [],
   "source": [
    "# Bitcoin block data\n",
    "pk.load(open(\"binary\\\\og_search_data_relative.p\", \"rb\"))"
   ]
  },
  {
   "cell_type": "code",
   "execution_count": null,
   "id": "aee382fa-efc6-4005-a58f-b8ff1a3ee88e",
   "metadata": {},
   "outputs": [],
   "source": [
    "# New Bitcoin block data\n",
    "pk.load(open(\"binary\\\\new_btc_data.p\", \"rb\"))"
   ]
  },
  {
   "cell_type": "markdown",
   "id": "9449c62e-0814-41c1-be4e-af9224ef693f",
   "metadata": {
    "tags": []
   },
   "source": [
    "# Analysis"
   ]
  },
  {
   "cell_type": "markdown",
   "id": "ac195bff-fd01-4b00-82d9-dc8720948ff1",
   "metadata": {
    "tags": []
   },
   "source": [
    "### Import the original datasets"
   ]
  },
  {
   "cell_type": "code",
   "execution_count": null,
   "id": "3de94886-7c40-440d-b3da-3666d2c62fbe",
   "metadata": {},
   "outputs": [],
   "source": [
    "# Bitcoin block data\n",
    "og_block_data = pk.load(open(\"binary\\\\og_block_data.p\", \"rb\"))\n",
    "\n",
    "# New Bitcoin Block data\n",
    "new_btc_block_data = pk.load(open(\"binary\\\\og_search_data_relative.p\", \"rb\"))\n",
    "\n",
    "# Crypto search data\n",
    "og_search_data = pk.load(open(\"binary\\\\og_search_data.p\", \"rb\"))\n",
    "\n",
    "# Crypto search data relative\n",
    "og_search_data_relative = pk.load(open(\"binary\\\\og_search_data_relative.p\", \"rb\"))\n"
   ]
  },
  {
   "cell_type": "code",
   "execution_count": null,
   "id": "1121414a-6358-46be-bea6-b43e0858720b",
   "metadata": {},
   "outputs": [],
   "source": [
    "pk.load(open(\"binary/og_block_data.p\", \"rb\"))"
   ]
  },
  {
   "cell_type": "markdown",
   "id": "3d374e25-0df7-4fcc-a4cc-f8d5bc994f9a",
   "metadata": {
    "tags": []
   },
   "source": [
    "### Match the date range for both datasets"
   ]
  },
  {
   "cell_type": "code",
   "execution_count": null,
   "id": "f210243c-51ed-4958-894a-2c964e3256b1",
   "metadata": {},
   "outputs": [],
   "source": [
    "# Drop columns with non-numerical data and height (because it's useless)\n",
    "block_data = og_block_data.drop(['host'],inplace=False,axis=1)\n",
    "\n",
    "dic = {}\n",
    "\n",
    "for i in list(block_data.index)[:]:\n",
    "    lst = [ ]\n",
    "    for k in [block_data[c][i] for c in block_data.columns]:\n",
    "        if type(k) == str:\n",
    "            key = k.split(\" \")[0]\n",
    "            var = key.split('/')  \n",
    "            new_key = var[-2] + '/' + var[-1]\n",
    "        else:\n",
    "            lst.append(k)\n",
    "            \n",
    "    if key not in dic.keys():\n",
    "        dic[new_key] = lst\n",
    "        \n",
    "# Convert the dictionary to a pandas dataframe and rename the columns\n",
    "new_block_data = pd.DataFrame.from_dict(data=dic,orient='index',columns=list(block_data.columns)[:-1])\n",
    "\n",
    "# Save the pickeled pandas dataframe\n",
    "pk.dump(new_block_data, open(\"binary\\\\new_block_data.p\", \"wb\" ))"
   ]
  },
  {
   "cell_type": "markdown",
   "id": "5a0f507e-fded-435f-94e7-d8a0002ecda2",
   "metadata": {},
   "source": [
    "Absolute Search Data"
   ]
  },
  {
   "cell_type": "code",
   "execution_count": null,
   "id": "066ba21d-96a8-4a15-b975-1e865d0e56c3",
   "metadata": {
    "tags": []
   },
   "outputs": [],
   "source": [
    "# Truncate the data to match the date range of the bitcoin block dataset\n",
    "new_search_data = og_search_data.truncate(\n",
    "    before=list(og_search_data.index)[60],\n",
    "    after=list(og_search_data.index)[204]\n",
    ")\n",
    "\n",
    "# Drop Useless columns\n",
    "new_search_data.drop('isPartial',inplace=True,axis=1)\n",
    "\n",
    "# Save the pickeled pandas dataframe\n",
    "pk.dump(new_search_data, open(\"binary\\\\new_search_data.p\", \"wb\" ))"
   ]
  },
  {
   "cell_type": "markdown",
   "id": "1a4c9f2c-d0bf-40ad-bba7-7b1daf8c0570",
   "metadata": {},
   "source": [
    "Relative Search Data"
   ]
  },
  {
   "cell_type": "code",
   "execution_count": null,
   "id": "30f00f7c-096b-4218-9d0b-39a9d5bcb1c7",
   "metadata": {},
   "outputs": [],
   "source": [
    "# Truncate the data to match the date range of the bitcoin block dataset\n",
    "new_search_data_relative = og_search_data_relative.truncate(\n",
    "    before=list(og_search_data_relative.index)[60],\n",
    "    after=list(og_search_data_relative.index)[204]\n",
    ")\n",
    "\n",
    "# Drop Useless columns\n",
    "new_search_data_relative.drop('isPartial',inplace=True,axis=1)\n",
    "\n",
    "# Save the pickeled pandas dataframe\n",
    "pk.dump(new_search_data_relative, open(\"binary\\\\new_search_data_relative.p\", \"wb\" ))"
   ]
  },
  {
   "cell_type": "markdown",
   "id": "7f0a8233-cb65-49c8-96ec-772eac9413d4",
   "metadata": {},
   "source": [
    "Block Data"
   ]
  },
  {
   "cell_type": "markdown",
   "id": "dfcc7bcd-5e62-420f-886c-b60c1f2c0937",
   "metadata": {
    "tags": []
   },
   "source": [
    "### Check that the data was cleaned and saved correctly"
   ]
  },
  {
   "cell_type": "code",
   "execution_count": null,
   "id": "fc158a0d-223d-4c1a-9b64-a045578d8a97",
   "metadata": {},
   "outputs": [],
   "source": [
    "pk.load(open(\"binary\\\\new_block_data.p\", \"rb\" ))"
   ]
  },
  {
   "cell_type": "code",
   "execution_count": null,
   "id": "bb70fd04-9e7a-4317-a21e-aa111118db13",
   "metadata": {},
   "outputs": [],
   "source": [
    "pk.load(open(\"binary\\\\new_search_data.p\", \"rb\" ))"
   ]
  },
  {
   "cell_type": "code",
   "execution_count": null,
   "id": "50881cdb-cd89-4da0-8957-60807894f88e",
   "metadata": {},
   "outputs": [],
   "source": [
    "pk.load(open(\"binary\\\\new_search_data_relative.p\", \"rb\" ))"
   ]
  },
  {
   "cell_type": "markdown",
   "id": "d573351f-56e6-4f48-b2fc-0296386bf6e0",
   "metadata": {
    "tags": []
   },
   "source": [
    "### Concatenate Block and Search Data"
   ]
  },
  {
   "cell_type": "code",
   "execution_count": null,
   "id": "25a69601-fe77-4016-8184-e641c10e0b43",
   "metadata": {
    "tags": []
   },
   "outputs": [],
   "source": [
    "# Load binary files\n",
    "new_block_data = pk.load(open(\"binary\\\\new_block_data.p\", \"rb\" ))\n",
    "new_search_data = pk.load(open(\"binary\\\\new_search_data.p\", \"rb\" ))\n",
    "\n",
    "# Match the indexes\n",
    "new_block_data = new_block_data.set_index(new_search_data.index)\n",
    "new_block_data.columns=['Height', 'Transaction Volume', 'Stripped Size', 'Size', 'Weight', \n",
    "                        'Avg. Transaction Fee', 'Block Reward', 'Block Reward Tips' ]\n",
    "\n",
    "# Concatenate the block and search datasets\n",
    "block_and_search_concat = pd.concat([new_search_data,new_block_data], axis=1)\n",
    "# block_and_search_concat.drop(['isPartial'],inplace=True,axis=1)\n",
    "\n",
    "block_and_search_concat =  block_and_search_concat.rename(columns={'Bitcoin':'Bitcoin Searches', 'Ethereum':'Ethereum Searches',\n",
    "                                                                   'Binance Coin':'Binance Coin Searches', 'Dogecoin':'Dogecoin Searches',\n",
    "                                                                   'Litecoin':'Litecoin Searches'})\n",
    "\n",
    "# Save the concatenated dataset\n",
    "pk.dump(block_and_search_concat, open(\"binary\\\\block_and_search_concat.p\", \"wb\" ))\n",
    "block_and_search_concat.to_csv(\"csv\\\\block_and_search_concat.csv\")\n",
    "\n",
    "# Show the dataset\n",
    "block_and_search_concat"
   ]
  },
  {
   "cell_type": "code",
   "execution_count": null,
   "id": "1d95875d-be4b-4036-b67d-eab1327e70ec",
   "metadata": {},
   "outputs": [],
   "source": [
    "block_and_search_concat = block_and_search_concat.describe()\n",
    "block_and_search_concat.to_csv(\"csv\\\\price_and_block_concat_describe.csv\")"
   ]
  },
  {
   "cell_type": "code",
   "execution_count": null,
   "id": "68d296a9-6d29-4121-bfae-bc94cf75f636",
   "metadata": {},
   "outputs": [],
   "source": [
    "# Load binary files\n",
    "new_block_data = pk.load(open(\"binary\\\\new_block_data.p\", \"rb\" ))\n",
    "new_search_data_relative = pk.load(open(\"binary\\\\new_search_data_relative.p\", \"rb\" ))\n",
    "\n",
    "# Match the indexes\n",
    "new_block_data = new_block_data.set_index(new_search_data_relative.index)\n",
    "new_block_data.columns=['Height', 'Transaction Volume', 'Stripped Size', 'Size', \n",
    "                        'Weight', 'Avg. Transaction Fee', 'Block Reward', 'Block Reward Tips' ]\n",
    "\n",
    "# Concatenate the block and search datasets\n",
    "block_and_search_concat_relative = pd.concat([new_search_data_relative,new_block_data], axis=1)\n",
    "# block_and_search_concat.drop(['isPartial'],inplace=True,axis=1)\n",
    "block_and_search_concat_relative =  block_and_search_concat_relative.rename(columns={'Bitcoin':'Bitcoin Searches',\n",
    "                                                                   'Ethereum':'Ethereum Searches',\n",
    "                                                                   'Binance Coin':'Binance Coin Searches',\n",
    "                                                                   'Dogecoin':'Dogecoin Searches',\n",
    "                                                                   'Litecoin':'Litecoin Searches'\n",
    "                                                                  })\n",
    "\n",
    "# Save the concatenated dataset\n",
    "pk.dump(block_and_search_concat_relative, open(\"binary\\\\block_and_search_concat_relative.p\", \"wb\" ))\n",
    "block_and_search_concat.to_csv(\"csv\\\\block_and_search_concat_relative.csv\")\n",
    "\n",
    "# Show the dataset\n",
    "block_and_search_concat_relative"
   ]
  },
  {
   "cell_type": "markdown",
   "id": "e19822e4-5f73-49d7-94e8-56866776e668",
   "metadata": {
    "tags": []
   },
   "source": [
    "### Calculate the correlation between the data points"
   ]
  },
  {
   "cell_type": "code",
   "execution_count": null,
   "id": "77052225-9fdf-44e3-8821-03543be5992d",
   "metadata": {},
   "outputs": [],
   "source": [
    "# Load binary files\n",
    "block_and_search_concat = pk.load(open(\"binary\\\\block_and_search_concat.p\", \"rb\" ))\n",
    "\n",
    "# Show Correlation\n",
    "block_and_search_corr = block_and_search_concat.corr(method='pearson')\n",
    "\n",
    "# Saved the dataset\n",
    "pk.dump(block_and_search_corr, open(\"binary\\\\block_and_search_corr.p\", \"wb\" ))\n",
    "\n",
    "# Show the dataset\n",
    "block_and_search_corr"
   ]
  },
  {
   "cell_type": "markdown",
   "id": "1390d827-b9fa-4d7f-af49-d954ce0256aa",
   "metadata": {
    "tags": []
   },
   "source": [
    "### Visualize the correlation as a heat map"
   ]
  },
  {
   "cell_type": "code",
   "execution_count": null,
   "id": "9d4909cd-2e30-4670-845f-82de8b84baa1",
   "metadata": {},
   "outputs": [],
   "source": [
    "# Import data\n",
    "block_and_search_corr = pk.load(open(\"binary\\\\block_and_search_corr.p\", \"rb\" ))\n",
    "\n",
    "block_and_search_corr_temp = block_and_search_corr.drop(['Dogecoin Searches','Litecoin Searches',\n",
    "                                                         'Ethereum Searches','Binance Coin Searches'], inplace=False, axis='index') \n",
    "block_and_search_corr_temp = block_and_search_corr_temp.drop(['Dogecoin Searches','Litecoin Searches',\n",
    "                                                              'Ethereum Searches','Binance Coin Searches'], inplace=False, axis='columns') \n",
    "\n",
    "# Make the plot\n",
    "plt.subplots(figsize= (20,12))\n",
    "sns.heatmap(data=block_and_search_corr_temp,\n",
    "            annot= True,\n",
    "            fmt= '.1%',\n",
    "            # linewidth=0.5\n",
    "           )\n",
    "            \n",
    "# Add features\n",
    "plt.title(\"Block & Search Data Correlation\")\n",
    "\n",
    "# Save the plot\n",
    "plt.savefig(\"plots\\\\block_and_search_corr.jpg\", dpi = 300)"
   ]
  },
  {
   "cell_type": "markdown",
   "id": "5ee5ac51-69b1-47e9-aae0-160b442ea963",
   "metadata": {},
   "source": [
    "### Min-Max Scale the data so we can better visualize the change over time"
   ]
  },
  {
   "cell_type": "code",
   "execution_count": null,
   "id": "483ee0b6-1814-489d-9d08-dd22a73473f5",
   "metadata": {},
   "outputs": [],
   "source": [
    "# Load binary files\n",
    "block_and_search_concat = pk.load(open(\"binary\\\\block_and_search_concat.p\", \"rb\" ))\n",
    "\n",
    "# Scale the data\n",
    "min_max_scaler = preprocessing.MinMaxScaler(feature_range=(0, 100))\n",
    "scaled = min_max_scaler.fit_transform(block_and_search_concat)\n",
    "block_and_search_scaled = pd.DataFrame(scaled, columns = block_and_search_concat.columns)\n",
    "block_and_search_scaled = block_and_search_scaled.set_index(block_and_search_concat.index)\n",
    "\n",
    "# Make adjustments\n",
    "block_and_search_scaled['Time'] = [i for i in range(len(block_and_search_scaled.index))]\n",
    "\n",
    "# Save the dataframe\n",
    "pk.dump(block_and_search_scaled, open(\"binary\\\\block_and_search_scaled.p\", \"wb\" ))\n",
    "\n",
    "# Show the dataframe\n",
    "block_and_search_scaled"
   ]
  },
  {
   "cell_type": "markdown",
   "id": "298175f6-8b84-4d18-b61d-ab47cfe42dc8",
   "metadata": {
    "tags": []
   },
   "source": [
    "### Visualize Search Data (Absolute)"
   ]
  },
  {
   "cell_type": "code",
   "execution_count": null,
   "id": "3bc99c77-2823-4c5d-8206-b96cb394a3c4",
   "metadata": {},
   "outputs": [],
   "source": [
    "# Import data\n",
    "block_and_search_concat = pk.load(open(\"binary\\\\block_and_search_concat.p\", \"rb\" ))\n",
    "\n",
    "# Plot\n",
    "plt.subplots(figsize= (20,12))\n",
    "\n",
    "# Set theme\n",
    "sns.set_theme(color_codes=True)\n",
    "\n",
    "# Plot lines\n",
    "sns.lineplot(x='date', \n",
    "            y='Bitcoin Searches', \n",
    "            data=block_and_search_concat,\n",
    "            label='Bitcoin Searches')    \n",
    "\n",
    "sns.lineplot(x='date',\n",
    "            y='Ethereum Searches',\n",
    "            data=block_and_search_concat,\n",
    "            label='Ethereum Searches')    \n",
    "\n",
    "sns.lineplot(x='date',\n",
    "            y='Litecoin Searches',\n",
    "            data=block_and_search_concat,\n",
    "            label='Litecoin Searches')    \n",
    "\n",
    "sns.lineplot(x='date',\n",
    "            y='Dogecoin Searches',\n",
    "            data=block_and_search_concat,\n",
    "            label='Dogecoin Searches')    \n",
    "\n",
    "# Add features\n",
    "plt.title(\"Crypto Search Graph\")\n",
    "plt.xlabel('Time')\n",
    "plt.ylabel('Searches')\n",
    "plt.legend(loc='upper left')\n",
    "\n",
    "# Save \n",
    "plt.savefig(\"plots\\\\crypto_search_lineplot.jpg\", dpi = 300)\n",
    "\n",
    "# Show data\n",
    "plt.show()"
   ]
  },
  {
   "cell_type": "markdown",
   "id": "756acd1f-de20-4a76-bb66-cb64f174d458",
   "metadata": {},
   "source": [
    "### Visualize Search Data (Relative)"
   ]
  },
  {
   "cell_type": "code",
   "execution_count": null,
   "id": "236fa22e-0a8f-457c-aaa2-c62d7ff0a58f",
   "metadata": {},
   "outputs": [],
   "source": [
    "# Import data\n",
    "block_and_search_concat_relative = pk.load(open(\"binary\\\\block_and_search_concat_relative.p\", \"rb\" ))\n",
    "\n",
    "# Plot\n",
    "plt.subplots(figsize= (20,12))\n",
    "sns.set_theme(color_codes=True)\n",
    "\n",
    "# Plot lines\n",
    "sns.lineplot(x='Height', \n",
    "            y='Bitcoin Searches', \n",
    "            data=block_and_search_concat,\n",
    "            label='Bitcoin Searches')    \n",
    "\n",
    "sns.lineplot(x='Height',\n",
    "            y='Ethereum Searches',\n",
    "            data=block_and_search_concat,\n",
    "            label='Ethereum Searches')    \n",
    "\n",
    "sns.lineplot(x='Height',\n",
    "            y='Litecoin Searches',\n",
    "            data=block_and_search_concat,\n",
    "            label='Litecoin Searches')    \n",
    "\n",
    "sns.lineplot(x='Height',\n",
    "            y='Dogecoin Searches',\n",
    "            data=block_and_search_concat,\n",
    "            label='Dogecoin Searches')    \n",
    "\n",
    "# Add features\n",
    "plt.title(\"Crypto Search Graph\")\n",
    "plt.xlabel('Time')\n",
    "plt.ylabel('y-axis')\n",
    "plt.legend(loc='upper left')\n",
    "\n",
    "# Save \n",
    "plt.savefig(\"plots\\\\crypto_search_lineplot_relative.jpg\", dpi = 300)\n",
    "\n",
    "# Show data\n",
    "plt.show()"
   ]
  },
  {
   "cell_type": "markdown",
   "id": "453e2dba-019b-4e13-9d4b-910a46376c00",
   "metadata": {
    "tags": []
   },
   "source": [
    "### Import and Prep New Block Data"
   ]
  },
  {
   "cell_type": "code",
   "execution_count": null,
   "id": "74641361-3c80-41c3-a7ea-f946271f8d8c",
   "metadata": {},
   "outputs": [],
   "source": [
    "# Import \n",
    "new_btc_block_data = pk.load(open(\"binary\\\\new_btc_data.p\", \"rb\" ))\n",
    "\n",
    "# Prep\n",
    "new_btc_block_data['Time'] = [i for i in range(len(new_btc_block_data.index))]\n",
    "\n",
    "print(list(new_btc_block_data.columns))"
   ]
  },
  {
   "cell_type": "code",
   "execution_count": null,
   "id": "f3ca4ab9-6ada-4204-9f46-80d21f7f2dec",
   "metadata": {},
   "outputs": [],
   "source": [
    "# Scale the data\n",
    "min_max_scaler = preprocessing.MinMaxScaler(feature_range=(0, 100))\n",
    "scaled = min_max_scaler.fit_transform(new_btc_block_data)\n",
    "new_btc_block_data_scaled = pd.DataFrame(scaled, columns = new_btc_block_data.columns)\n",
    "new_btc_block_data_scaled = new_btc_block_data_scaled.set_index(new_btc_block_data.index)\n",
    "\n",
    "\n",
    "# Save the dataframe\n",
    "pk.dump(new_btc_block_data_scaled, open(\"binary\\\\new_btc_block_data_scaled.p\", \"wb\" ))\n",
    "\n",
    "# Show the dataframe\n",
    "new_btc_block_data_scaled"
   ]
  },
  {
   "cell_type": "markdown",
   "id": "a265424d-1bfb-4fc8-96e8-5e7e95f7632c",
   "metadata": {
    "tags": []
   },
   "source": [
    "### Visualize Block Data (Scaled)"
   ]
  },
  {
   "cell_type": "code",
   "execution_count": null,
   "id": "738259c8-c936-48ac-899d-34ac55d35d7d",
   "metadata": {},
   "outputs": [],
   "source": [
    "# Plot \n",
    "plt.subplots(figsize= (20,12))\n",
    "sns.set_theme(color_codes=True)\n",
    "\n",
    "sns.regplot(x='Time', \n",
    "            y='avg-block-size', \n",
    "            data=new_btc_block_data_scaled,\n",
    "            scatter=False,\n",
    "            label='Size',\n",
    "            order=3)    \n",
    "\n",
    "sns.regplot(x='Time',\n",
    "            y='n-transactions-per-block',\n",
    "            data=new_btc_block_data_scaled,\n",
    "            scatter=False,\n",
    "            label='Trans. Volume',\n",
    "            order=3)    \n",
    "\n",
    "sns.regplot(x='Time',\n",
    "            y='transaction-fees',\n",
    "            data=new_btc_block_data_scaled,\n",
    "            scatter=False,\n",
    "            label='Trans. Fees',\n",
    "            order=3)    \n",
    "\n",
    "# sns.regplot(x='Time',\n",
    "#             y='transaction-fees-usd',\n",
    "#             data=new_btc_block_data_scaled,\n",
    "#             scatter=False,\n",
    "#             label='Transaction Fees USD',\n",
    "#             order=3)    \n",
    "\n",
    "sns.regplot(x='Time',\n",
    "            y='fee-per-transaction',\n",
    "            data=new_btc_block_data_scaled,\n",
    "            label='Fee Per Trans.',\n",
    "            scatter=False,\n",
    "            order=3)    \n",
    "\n",
    "# sns.regplot(x='Time',\n",
    "#             y='fee-per-transaction-usd',\n",
    "#             data=new_btc_block_data_scaled,\n",
    "#             label='Fee Per Transaction USD',\n",
    "#             scatter=False,\n",
    "#             order=3)    \n",
    "\n",
    "            # linestyle='dashed'\n",
    "\n",
    "# Add features\n",
    "plt.title(\"New Block Data Regression Plot (Blockchain.com)\")\n",
    "plt.xlabel('Time')\n",
    "plt.ylabel('Values')\n",
    "plt.legend(loc='upper left')\n",
    "\n",
    "# Save plot\n",
    "plt.savefig(\"plots\\\\new_block_data_regression.jpg\", dpi = 300)"
   ]
  },
  {
   "cell_type": "code",
   "execution_count": null,
   "id": "c99e82d7-a479-4103-a41a-c6fa703574bc",
   "metadata": {},
   "outputs": [],
   "source": [
    "# Plot \n",
    "plt.subplots(figsize= (20,12))\n",
    "sns.set_theme(color_codes=True)\n",
    "\n",
    "sns.regplot(x='Time', \n",
    "            y='avg-block-size', \n",
    "            data=new_btc_block_data_scaled,\n",
    "            scatter=False,\n",
    "            label='Size',\n",
    "            order=3)    \n",
    "\n",
    "sns.regplot(x='Time',\n",
    "            y='n-transactions-per-block',\n",
    "            data=new_btc_block_data_scaled,\n",
    "            scatter=False,\n",
    "            label='Transaction Volume',\n",
    "            order=3)    \n",
    "\n",
    "sns.regplot(x='Time',\n",
    "            y='transaction-fees',\n",
    "            data=new_btc_block_data_scaled,\n",
    "            scatter=False,\n",
    "            label='Transaction Fees BTC',\n",
    "            order=3)    \n",
    "\n",
    "sns.regplot(x='Time',\n",
    "            y='transaction-fees-usd',\n",
    "            data=new_btc_block_data_scaled,\n",
    "            scatter=False,\n",
    "            label='Transaction Fees USD',\n",
    "            order=3)    \n",
    "\n",
    "sns.regplot(x='Time',\n",
    "            y='fee-per-transaction',\n",
    "            data=new_btc_block_data_scaled,\n",
    "            label='Fee Per Transaction BTC',\n",
    "            scatter=False,\n",
    "            order=3)    \n",
    "\n",
    "# sns.regplot(x='Time',\n",
    "#             y='fee-per-transaction-usd',\n",
    "#             data=new_btc_block_data_scaled,\n",
    "#             label='Fee Per Transaction USD',\n",
    "#             scatter=False,\n",
    "#             order=3)    \n",
    "\n",
    "            # linestyle='dashed'\n",
    "\n",
    "# Add features\n",
    "plt.title(\"New Block Data Regression Plot (Blockchain.com)\")\n",
    "plt.xlabel('Time')\n",
    "plt.ylabel('Values')\n",
    "plt.legend(loc='upper left')\n",
    "\n",
    "# Save plot\n",
    "plt.savefig(\"plots\\\\new_block_data_regression_additional.jpg\", dpi = 300)"
   ]
  },
  {
   "cell_type": "code",
   "execution_count": null,
   "id": "2b29262f",
   "metadata": {},
   "outputs": [],
   "source": [
    "# Import \n",
    "block_and_search_scaled = pk.load(open(\"binary\\\\block_and_search_scaled.p\", \"rb\" ))\n",
    "\n",
    "# Plot \n",
    "plt.subplots(figsize= (20,12))\n",
    "sns.set_theme(color_codes=True)\n",
    "\n",
    "sns.regplot(x='Height', \n",
    "            y='Size', \n",
    "            data=block_and_search_scaled,\n",
    "            label='Size',\n",
    "            scatter=False,\n",
    "            order=3)    \n",
    "\n",
    "sns.regplot(x='Height',\n",
    "            y='Transaction Volume',\n",
    "            data=block_and_search_scaled,\n",
    "            label='Trans. Volume',\n",
    "            scatter=False,\n",
    "            order=3)    \n",
    "\n",
    "# sns.regplot(x='Height',\n",
    "#             y='Weight',\n",
    "#             data=block_and_search_scaled,\n",
    "#             label='Weight',\n",
    "#             order=3)    \n",
    "\n",
    "sns.regplot(x='Height',\n",
    "            y='Block Reward Tips',\n",
    "            data=block_and_search_scaled,\n",
    "            label='Trans. Fees',\n",
    "            scatter=False,\n",
    "            order=3)    \n",
    "\n",
    "sns.regplot(x='Height',\n",
    "            y='Avg. Transaction Fee',\n",
    "            data=block_and_search_scaled,\n",
    "            label='Fee Per Trans.',\n",
    "            scatter=False,\n",
    "            order=3)    \n",
    "\n",
    "# sns.regplot(x='Height',\n",
    "#             y='Weight',\n",
    "#             data=block_and_search_scaled,\n",
    "#             label='Weight',\n",
    "#             order=3)    \n",
    "#             linestyle='dashed'\n",
    "\n",
    "# Add features\n",
    "plt.title(\"Block Data Regression Plot (Prof. Zhang)\")\n",
    "plt.xlabel('Time')\n",
    "plt.ylabel('y-axis')\n",
    "plt.legend(loc='upper left')\n",
    "\n",
    "# Save plot\n",
    "plt.savefig(\"plots\\\\block_data_regression.jpg\", dpi = 300)"
   ]
  },
  {
   "cell_type": "code",
   "execution_count": null,
   "id": "9a8896e6-0a50-4f82-a610-f4a123e66987",
   "metadata": {},
   "outputs": [],
   "source": [
    "plt.subplots(figsize= (25,12))\n",
    "sns.heatmap(block_and_search_corr_temp, annot= True, fmt= '.2%')\n",
    "plt.title(\"Block & Search Data Correlation\")\n",
    "plt.savefig(\"plots\\\\block_and_search_corr.jpg\", dpi = 300)"
   ]
  },
  {
   "cell_type": "code",
   "execution_count": null,
   "id": "46441703-6ef4-4b4e-8035-783e2b1e6db0",
   "metadata": {},
   "outputs": [],
   "source": [
    "plt.subplots(figsize= (20,12))\n",
    "\n",
    "sns.set_theme(color_codes=True)\n",
    "\n",
    "sns.regplot(x='Height', \n",
    "            y='Size', \n",
    "            data=block_and_search_scaled,\n",
    "            label='Size',\n",
    "            scatter=False,\n",
    "            order=3)    \n",
    "\n",
    "sns.regplot(x='Height',\n",
    "            y='Transaction Volume',\n",
    "            data=block_and_search_scaled,\n",
    "            label='Trans. Volume',\n",
    "            scatter=False,\n",
    "            order=3)    \n",
    "\n",
    "sns.regplot(x='Height',\n",
    "            y='Bitcoin Searches',\n",
    "            data=block_and_search_scaled,\n",
    "            label='Bitcoin Searches',\n",
    "            scatter=False,\n",
    "            ci=True,\n",
    "            order=3)    \n",
    "\n",
    "sns.regplot(x='Height',\n",
    "            y='Ethereum Searches',\n",
    "            data=block_and_search_scaled,\n",
    "            label='Ethereum Searches',\n",
    "            scatter=False,\n",
    "            ci=True,\n",
    "            order=3)    \n",
    "\n",
    "# sns.lineplot(x='Height',\n",
    "#             y='Bitcoin',\n",
    "#             data=block_and_search_scaled,\n",
    "#             label='Bitcoin',\n",
    "#             dashes=True)    \n",
    "\n",
    "# sns.lineplot(x='Height',\n",
    "#             y='Ethereum',\n",
    "#             data=block_and_search_scaled,\n",
    "#             label='Ethereum',\n",
    "#             linestyle=\"dashed\",\n",
    "#             )    \n",
    "\n",
    "plt.title(\"Block Data Regression\")\n",
    "plt.xlabel('Time')\n",
    "plt.ylabel('y-axis')\n",
    "# plt.ylim([0, 100])\n",
    "\n",
    "plt.legend(loc='upper left')\n",
    "\n",
    "# Save plot\n",
    "plt.savefig(\"plots\\\\block_and_search_data_regression.jpg\", dpi = 300)\n",
    "plt.show()"
   ]
  },
  {
   "cell_type": "code",
   "execution_count": null,
   "id": "1b8719d9-f5ba-4f5c-b880-90f5436e4396",
   "metadata": {},
   "outputs": [],
   "source": [
    "plt.subplots(figsize= (20,12))\n",
    "\n",
    "sns.set_theme(color_codes=True)\n",
    "\n",
    "sns.regplot(x='Height', \n",
    "            y='Size', \n",
    "            data=block_and_search_scaled,\n",
    "            label='Size',\n",
    "            scatter=False,\n",
    "            order=3)    \n",
    "\n",
    "sns.regplot(x='Height',\n",
    "            y='Transaction Volume',\n",
    "            data=block_and_search_scaled,\n",
    "            label='Trans. Volume',\n",
    "            scatter=False,\n",
    "            order=3)    \n",
    "\n",
    "sns.lineplot(x='Height',\n",
    "            y='Bitcoin Searches',\n",
    "            data=block_and_search_scaled,\n",
    "            label='Bitcoin Searches',\n",
    "            linestyle=\"dashed\")\n",
    "\n",
    "sns.lineplot(x='Height',\n",
    "            y='Ethereum Searches',\n",
    "            data=block_and_search_scaled,\n",
    "            label='Ethereum Searches',\n",
    "            linestyle=\"dashed\")    \n",
    "\n",
    "plt.title(\"Block Data Regression\")\n",
    "plt.xlabel('Time')\n",
    "plt.ylabel('y-axis')\n",
    "# plt.ylim([0, 100])\n",
    "\n",
    "plt.legend(loc='upper left')\n",
    "\n",
    "# Save plot\n",
    "plt.savefig(\"plots\\\\block_and_search_data_regression_and_line.jpg\", dpi = 300)\n",
    "plt.show()"
   ]
  }
 ],
 "metadata": {
  "interpreter": {
   "hash": "0d65e8f2d8d207b69672befcf6be1feb6149e405aceb0f82144a716685e7f6de"
  },
  "kernelspec": {
   "display_name": "Python 3 (ipykernel)",
   "language": "python",
   "name": "python3"
  },
  "language_info": {
   "codemirror_mode": {
    "name": "ipython",
    "version": 3
   },
   "file_extension": ".py",
   "mimetype": "text/x-python",
   "name": "python",
   "nbconvert_exporter": "python",
   "pygments_lexer": "ipython3",
   "version": "3.9.7"
  },
  "toc-autonumbering": true,
  "toc-showcode": false,
  "toc-showmarkdowntxt": false,
  "toc-showtags": false
 },
 "nbformat": 4,
 "nbformat_minor": 5
}
